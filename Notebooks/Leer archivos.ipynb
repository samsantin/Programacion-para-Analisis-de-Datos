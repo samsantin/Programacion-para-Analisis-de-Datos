{
 "cells": [
  {
   "cell_type": "code",
   "execution_count": 3,
   "metadata": {},
   "outputs": [],
   "source": [
    "path = \"C:/Users/samys/Documents/Programación para Análisis de Datos/iris.data\""
   ]
  },
  {
   "cell_type": "code",
   "execution_count": 4,
   "metadata": {},
   "outputs": [
    {
     "name": "stdout",
     "output_type": "stream",
     "text": [
      "['5.1,3.5,1.4,0.2,Iris-setosa\\n', '4.9,3.0,1.4,0.2,Iris-setosa\\n', '4.7,3.2,1.3,0.2,Iris-setosa\\n', '4.6,3.1,1.5,0.2,Iris-setosa\\n', '5.0,3.6,1.4,0.2,Iris-setosa\\n', '5.4,3.9,1.7,0.4,Iris-setosa\\n', '4.6,3.4,1.4,0.3,Iris-setosa\\n', '5.0,3.4,1.5,0.2,Iris-setosa\\n', '4.4,2.9,1.4,0.2,Iris-setosa\\n', '4.9,3.1,1.5,0.1,Iris-setosa\\n', '5.4,3.7,1.5,0.2,Iris-setosa\\n', '4.8,3.4,1.6,0.2,Iris-setosa\\n', '4.8,3.0,1.4,0.1,Iris-setosa\\n', '4.3,3.0,1.1,0.1,Iris-setosa\\n', '5.8,4.0,1.2,0.2,Iris-setosa\\n', '5.7,4.4,1.5,0.4,Iris-setosa\\n', '5.4,3.9,1.3,0.4,Iris-setosa\\n', '5.1,3.5,1.4,0.3,Iris-setosa\\n', '5.7,3.8,1.7,0.3,Iris-setosa\\n', '5.1,3.8,1.5,0.3,Iris-setosa\\n', '5.4,3.4,1.7,0.2,Iris-setosa\\n', '5.1,3.7,1.5,0.4,Iris-setosa\\n', '4.6,3.6,1.0,0.2,Iris-setosa\\n', '5.1,3.3,1.7,0.5,Iris-setosa\\n', '4.8,3.4,1.9,0.2,Iris-setosa\\n', '5.0,3.0,1.6,0.2,Iris-setosa\\n', '5.0,3.4,1.6,0.4,Iris-setosa\\n', '5.2,3.5,1.5,0.2,Iris-setosa\\n', '5.2,3.4,1.4,0.2,Iris-setosa\\n', '4.7,3.2,1.6,0.2,Iris-setosa\\n', '4.8,3.1,1.6,0.2,Iris-setosa\\n', '5.4,3.4,1.5,0.4,Iris-setosa\\n', '5.2,4.1,1.5,0.1,Iris-setosa\\n', '5.5,4.2,1.4,0.2,Iris-setosa\\n', '4.9,3.1,1.5,0.1,Iris-setosa\\n', '5.0,3.2,1.2,0.2,Iris-setosa\\n', '5.5,3.5,1.3,0.2,Iris-setosa\\n', '4.9,3.1,1.5,0.1,Iris-setosa\\n', '4.4,3.0,1.3,0.2,Iris-setosa\\n', '5.1,3.4,1.5,0.2,Iris-setosa\\n', '5.0,3.5,1.3,0.3,Iris-setosa\\n', '4.5,2.3,1.3,0.3,Iris-setosa\\n', '4.4,3.2,1.3,0.2,Iris-setosa\\n', '5.0,3.5,1.6,0.6,Iris-setosa\\n', '5.1,3.8,1.9,0.4,Iris-setosa\\n', '4.8,3.0,1.4,0.3,Iris-setosa\\n', '5.1,3.8,1.6,0.2,Iris-setosa\\n', '4.6,3.2,1.4,0.2,Iris-setosa\\n', '5.3,3.7,1.5,0.2,Iris-setosa\\n', '5.0,3.3,1.4,0.2,Iris-setosa\\n', '7.0,3.2,4.7,1.4,Iris-versicolor\\n', '6.4,3.2,4.5,1.5,Iris-versicolor\\n', '6.9,3.1,4.9,1.5,Iris-versicolor\\n', '5.5,2.3,4.0,1.3,Iris-versicolor\\n', '6.5,2.8,4.6,1.5,Iris-versicolor\\n', '5.7,2.8,4.5,1.3,Iris-versicolor\\n', '6.3,3.3,4.7,1.6,Iris-versicolor\\n', '4.9,2.4,3.3,1.0,Iris-versicolor\\n', '6.6,2.9,4.6,1.3,Iris-versicolor\\n', '5.2,2.7,3.9,1.4,Iris-versicolor\\n', '5.0,2.0,3.5,1.0,Iris-versicolor\\n', '5.9,3.0,4.2,1.5,Iris-versicolor\\n', '6.0,2.2,4.0,1.0,Iris-versicolor\\n', '6.1,2.9,4.7,1.4,Iris-versicolor\\n', '5.6,2.9,3.6,1.3,Iris-versicolor\\n', '6.7,3.1,4.4,1.4,Iris-versicolor\\n', '5.6,3.0,4.5,1.5,Iris-versicolor\\n', '5.8,2.7,4.1,1.0,Iris-versicolor\\n', '6.2,2.2,4.5,1.5,Iris-versicolor\\n', '5.6,2.5,3.9,1.1,Iris-versicolor\\n', '5.9,3.2,4.8,1.8,Iris-versicolor\\n', '6.1,2.8,4.0,1.3,Iris-versicolor\\n', '6.3,2.5,4.9,1.5,Iris-versicolor\\n', '6.1,2.8,4.7,1.2,Iris-versicolor\\n', '6.4,2.9,4.3,1.3,Iris-versicolor\\n', '6.6,3.0,4.4,1.4,Iris-versicolor\\n', '6.8,2.8,4.8,1.4,Iris-versicolor\\n', '6.7,3.0,5.0,1.7,Iris-versicolor\\n', '6.0,2.9,4.5,1.5,Iris-versicolor\\n', '5.7,2.6,3.5,1.0,Iris-versicolor\\n', '5.5,2.4,3.8,1.1,Iris-versicolor\\n', '5.5,2.4,3.7,1.0,Iris-versicolor\\n', '5.8,2.7,3.9,1.2,Iris-versicolor\\n', '6.0,2.7,5.1,1.6,Iris-versicolor\\n', '5.4,3.0,4.5,1.5,Iris-versicolor\\n', '6.0,3.4,4.5,1.6,Iris-versicolor\\n', '6.7,3.1,4.7,1.5,Iris-versicolor\\n', '6.3,2.3,4.4,1.3,Iris-versicolor\\n', '5.6,3.0,4.1,1.3,Iris-versicolor\\n', '5.5,2.5,4.0,1.3,Iris-versicolor\\n', '5.5,2.6,4.4,1.2,Iris-versicolor\\n', '6.1,3.0,4.6,1.4,Iris-versicolor\\n', '5.8,2.6,4.0,1.2,Iris-versicolor\\n', '5.0,2.3,3.3,1.0,Iris-versicolor\\n', '5.6,2.7,4.2,1.3,Iris-versicolor\\n', '5.7,3.0,4.2,1.2,Iris-versicolor\\n', '5.7,2.9,4.2,1.3,Iris-versicolor\\n', '6.2,2.9,4.3,1.3,Iris-versicolor\\n', '5.1,2.5,3.0,1.1,Iris-versicolor\\n', '5.7,2.8,4.1,1.3,Iris-versicolor\\n', '6.3,3.3,6.0,2.5,Iris-virginica\\n', '5.8,2.7,5.1,1.9,Iris-virginica\\n', '7.1,3.0,5.9,2.1,Iris-virginica\\n', '6.3,2.9,5.6,1.8,Iris-virginica\\n', '6.5,3.0,5.8,2.2,Iris-virginica\\n', '7.6,3.0,6.6,2.1,Iris-virginica\\n', '4.9,2.5,4.5,1.7,Iris-virginica\\n', '7.3,2.9,6.3,1.8,Iris-virginica\\n', '6.7,2.5,5.8,1.8,Iris-virginica\\n', '7.2,3.6,6.1,2.5,Iris-virginica\\n', '6.5,3.2,5.1,2.0,Iris-virginica\\n', '6.4,2.7,5.3,1.9,Iris-virginica\\n', '6.8,3.0,5.5,2.1,Iris-virginica\\n', '5.7,2.5,5.0,2.0,Iris-virginica\\n', '5.8,2.8,5.1,2.4,Iris-virginica\\n', '6.4,3.2,5.3,2.3,Iris-virginica\\n', '6.5,3.0,5.5,1.8,Iris-virginica\\n', '7.7,3.8,6.7,2.2,Iris-virginica\\n', '7.7,2.6,6.9,2.3,Iris-virginica\\n', '6.0,2.2,5.0,1.5,Iris-virginica\\n', '6.9,3.2,5.7,2.3,Iris-virginica\\n', '5.6,2.8,4.9,2.0,Iris-virginica\\n', '7.7,2.8,6.7,2.0,Iris-virginica\\n', '6.3,2.7,4.9,1.8,Iris-virginica\\n', '6.7,3.3,5.7,2.1,Iris-virginica\\n', '7.2,3.2,6.0,1.8,Iris-virginica\\n', '6.2,2.8,4.8,1.8,Iris-virginica\\n', '6.1,3.0,4.9,1.8,Iris-virginica\\n', '6.4,2.8,5.6,2.1,Iris-virginica\\n', '7.2,3.0,5.8,1.6,Iris-virginica\\n', '7.4,2.8,6.1,1.9,Iris-virginica\\n', '7.9,3.8,6.4,2.0,Iris-virginica\\n', '6.4,2.8,5.6,2.2,Iris-virginica\\n', '6.3,2.8,5.1,1.5,Iris-virginica\\n', '6.1,2.6,5.6,1.4,Iris-virginica\\n', '7.7,3.0,6.1,2.3,Iris-virginica\\n', '6.3,3.4,5.6,2.4,Iris-virginica\\n', '6.4,3.1,5.5,1.8,Iris-virginica\\n', '6.0,3.0,4.8,1.8,Iris-virginica\\n', '6.9,3.1,5.4,2.1,Iris-virginica\\n', '6.7,3.1,5.6,2.4,Iris-virginica\\n', '6.9,3.1,5.1,2.3,Iris-virginica\\n', '5.8,2.7,5.1,1.9,Iris-virginica\\n', '6.8,3.2,5.9,2.3,Iris-virginica\\n', '6.7,3.3,5.7,2.5,Iris-virginica\\n', '6.7,3.0,5.2,2.3,Iris-virginica\\n', '6.3,2.5,5.0,1.9,Iris-virginica\\n', '6.5,3.0,5.2,2.0,Iris-virginica\\n', '6.2,3.4,5.4,2.3,Iris-virginica\\n', '5.9,3.0,5.1,1.8,Iris-virginica']\n"
     ]
    },
    {
     "data": {
      "text/plain": [
       "<function TextIOWrapper.close()>"
      ]
     },
     "execution_count": 4,
     "metadata": {},
     "output_type": "execute_result"
    }
   ],
   "source": [
    "#Open file\n",
    "f = open(path,\"r\")\n",
    "\n",
    "#Read file\n",
    "#test = f.read()\n",
    "#test = f.readline()\n",
    "test = f.readlines()\n",
    "print(test)\n",
    "\n",
    "f.close"
   ]
  },
  {
   "cell_type": "code",
   "execution_count": 7,
   "metadata": {},
   "outputs": [
    {
     "data": {
      "text/plain": [
       "150"
      ]
     },
     "execution_count": 7,
     "metadata": {},
     "output_type": "execute_result"
    }
   ],
   "source": [
    "len(test)"
   ]
  },
  {
   "cell_type": "markdown",
   "metadata": {},
   "source": [
    "# Writing"
   ]
  },
  {
   "cell_type": "code",
   "execution_count": 8,
   "metadata": {},
   "outputs": [
    {
     "ename": "FileNotFoundError",
     "evalue": "[Errno 2] No such file or directory: '../data/processed/test.txt'",
     "output_type": "error",
     "traceback": [
      "\u001b[1;31m---------------------------------------------------------------------------\u001b[0m",
      "\u001b[1;31mFileNotFoundError\u001b[0m                         Traceback (most recent call last)",
      "Cell \u001b[1;32mIn[8], line 3\u001b[0m\n\u001b[0;32m      1\u001b[0m path \u001b[38;5;241m=\u001b[39m \u001b[38;5;124m\"\u001b[39m\u001b[38;5;124m../data/processed/test.txt\u001b[39m\u001b[38;5;124m\"\u001b[39m\n\u001b[1;32m----> 3\u001b[0m \u001b[38;5;28;01mwith\u001b[39;00m \u001b[38;5;28mopen\u001b[39m(path,\u001b[38;5;124m\"\u001b[39m\u001b[38;5;124mw\u001b[39m\u001b[38;5;124m\"\u001b[39m) \u001b[38;5;28;01mas\u001b[39;00m f:\n\u001b[0;32m      4\u001b[0m     f\u001b[38;5;241m.\u001b[39mwrite(\u001b[38;5;124m\"\u001b[39m\u001b[38;5;124mHello World\u001b[39m\u001b[38;5;124m\"\u001b[39m)\n",
      "File \u001b[1;32mc:\\Users\\samys\\Documents\\Software\\Anaconda\\envs\\18enero\\Lib\\site-packages\\IPython\\core\\interactiveshell.py:310\u001b[0m, in \u001b[0;36m_modified_open\u001b[1;34m(file, *args, **kwargs)\u001b[0m\n\u001b[0;32m    303\u001b[0m \u001b[38;5;28;01mif\u001b[39;00m file \u001b[38;5;129;01min\u001b[39;00m {\u001b[38;5;241m0\u001b[39m, \u001b[38;5;241m1\u001b[39m, \u001b[38;5;241m2\u001b[39m}:\n\u001b[0;32m    304\u001b[0m     \u001b[38;5;28;01mraise\u001b[39;00m \u001b[38;5;167;01mValueError\u001b[39;00m(\n\u001b[0;32m    305\u001b[0m         \u001b[38;5;124mf\u001b[39m\u001b[38;5;124m\"\u001b[39m\u001b[38;5;124mIPython won\u001b[39m\u001b[38;5;124m'\u001b[39m\u001b[38;5;124mt let you open fd=\u001b[39m\u001b[38;5;132;01m{\u001b[39;00mfile\u001b[38;5;132;01m}\u001b[39;00m\u001b[38;5;124m by default \u001b[39m\u001b[38;5;124m\"\u001b[39m\n\u001b[0;32m    306\u001b[0m         \u001b[38;5;124m\"\u001b[39m\u001b[38;5;124mas it is likely to crash IPython. If you know what you are doing, \u001b[39m\u001b[38;5;124m\"\u001b[39m\n\u001b[0;32m    307\u001b[0m         \u001b[38;5;124m\"\u001b[39m\u001b[38;5;124myou can use builtins\u001b[39m\u001b[38;5;124m'\u001b[39m\u001b[38;5;124m open.\u001b[39m\u001b[38;5;124m\"\u001b[39m\n\u001b[0;32m    308\u001b[0m     )\n\u001b[1;32m--> 310\u001b[0m \u001b[38;5;28;01mreturn\u001b[39;00m io_open(file, \u001b[38;5;241m*\u001b[39margs, \u001b[38;5;241m*\u001b[39m\u001b[38;5;241m*\u001b[39mkwargs)\n",
      "\u001b[1;31mFileNotFoundError\u001b[0m: [Errno 2] No such file or directory: '../data/processed/test.txt'"
     ]
    }
   ],
   "source": [
    "path = \"../data/processed/test.txt\"\n",
    "\n",
    "with open(path,\"w\") as f:\n",
    "    f.write(\"Hello World\")"
   ]
  }
 ],
 "metadata": {
  "kernelspec": {
   "display_name": "Python 3",
   "language": "python",
   "name": "python3"
  },
  "language_info": {
   "codemirror_mode": {
    "name": "ipython",
    "version": 3
   },
   "file_extension": ".py",
   "mimetype": "text/x-python",
   "name": "python",
   "nbconvert_exporter": "python",
   "pygments_lexer": "ipython3",
   "version": "3.11.7"
  }
 },
 "nbformat": 4,
 "nbformat_minor": 2
}
