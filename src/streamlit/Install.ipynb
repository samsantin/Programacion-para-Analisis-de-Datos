{
 "cells": [
  {
   "cell_type": "code",
   "execution_count": 1,
   "metadata": {},
   "outputs": [
    {
     "name": "stdout",
     "output_type": "stream",
     "text": [
      "Requirement already satisfied: pandas in c:\\users\\samys\\documents\\software\\anaconda\\envs\\18enero\\lib\\site-packages (from -r requirements.txt (line 1)) (2.2.0)\n",
      "Requirement already satisfied: matplotlib in c:\\users\\samys\\documents\\software\\anaconda\\envs\\18enero\\lib\\site-packages (from -r requirements.txt (line 2)) (3.8.2)\n",
      "Requirement already satisfied: numpy<2,>=1.23.2 in c:\\users\\samys\\documents\\software\\anaconda\\envs\\18enero\\lib\\site-packages (from pandas->-r requirements.txt (line 1)) (1.26.3)\n",
      "Requirement already satisfied: python-dateutil>=2.8.2 in c:\\users\\samys\\documents\\software\\anaconda\\envs\\18enero\\lib\\site-packages (from pandas->-r requirements.txt (line 1)) (2.8.2)\n",
      "Requirement already satisfied: pytz>=2020.1 in c:\\users\\samys\\documents\\software\\anaconda\\envs\\18enero\\lib\\site-packages (from pandas->-r requirements.txt (line 1)) (2023.3.post1)\n",
      "Requirement already satisfied: tzdata>=2022.7 in c:\\users\\samys\\documents\\software\\anaconda\\envs\\18enero\\lib\\site-packages (from pandas->-r requirements.txt (line 1)) (2023.4)\n",
      "Requirement already satisfied: contourpy>=1.0.1 in c:\\users\\samys\\documents\\software\\anaconda\\envs\\18enero\\lib\\site-packages (from matplotlib->-r requirements.txt (line 2)) (1.2.0)\n",
      "Requirement already satisfied: cycler>=0.10 in c:\\users\\samys\\documents\\software\\anaconda\\envs\\18enero\\lib\\site-packages (from matplotlib->-r requirements.txt (line 2)) (0.12.1)\n",
      "Requirement already satisfied: fonttools>=4.22.0 in c:\\users\\samys\\documents\\software\\anaconda\\envs\\18enero\\lib\\site-packages (from matplotlib->-r requirements.txt (line 2)) (4.48.1)\n",
      "Requirement already satisfied: kiwisolver>=1.3.1 in c:\\users\\samys\\documents\\software\\anaconda\\envs\\18enero\\lib\\site-packages (from matplotlib->-r requirements.txt (line 2)) (1.4.5)\n",
      "Requirement already satisfied: packaging>=20.0 in c:\\users\\samys\\documents\\software\\anaconda\\envs\\18enero\\lib\\site-packages (from matplotlib->-r requirements.txt (line 2)) (23.1)\n",
      "Requirement already satisfied: pillow>=8 in c:\\users\\samys\\documents\\software\\anaconda\\envs\\18enero\\lib\\site-packages (from matplotlib->-r requirements.txt (line 2)) (10.2.0)\n",
      "Requirement already satisfied: pyparsing>=2.3.1 in c:\\users\\samys\\documents\\software\\anaconda\\envs\\18enero\\lib\\site-packages (from matplotlib->-r requirements.txt (line 2)) (3.1.1)\n",
      "Requirement already satisfied: six>=1.5 in c:\\users\\samys\\documents\\software\\anaconda\\envs\\18enero\\lib\\site-packages (from python-dateutil>=2.8.2->pandas->-r requirements.txt (line 1)) (1.16.0)\n",
      "Note: you may need to restart the kernel to use updated packages.\n"
     ]
    }
   ],
   "source": [
    "pip install -r requirements.txt\n"
   ]
  }
 ],
 "metadata": {
  "kernelspec": {
   "display_name": "Python 3",
   "language": "python",
   "name": "python3"
  },
  "language_info": {
   "codemirror_mode": {
    "name": "ipython",
    "version": 3
   },
   "file_extension": ".py",
   "mimetype": "text/x-python",
   "name": "python",
   "nbconvert_exporter": "python",
   "pygments_lexer": "ipython3",
   "version": "3.11.7"
  }
 },
 "nbformat": 4,
 "nbformat_minor": 2
}
